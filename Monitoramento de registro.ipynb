{
 "cells": [
  {
   "cell_type": "code",
   "execution_count": null,
   "id": "4af77ae8-fb69-448f-8750-a890ac050299",
   "metadata": {},
   "outputs": [],
   "source": [
    "import requests\n",
    "import time\n",
    "\n",
    "def monitor_site(url, intervalo, num_iteracoes):\n",
    "    print(f\"Monitorando o site {url}...\")\n",
    "\n",
    "    for i in range(num_iteracoes):\n",
    "        try:\n",
    "            inicio = time.time()\n",
    "            resposta = requests.get(url)\n",
    "            tempo_resposta = time.time() - inicio\n",
    "            status = resposta.status_code\n",
    "            print(f\"Iteração {i+1}: Status={status}, Tempo de resposta={tempo_resposta:.2f} segundos\")\n",
    "        except requests.exceptions.RequestException as e:\n",
    "            print(f\"Iteração {i+1}: Erro - {e}\")\n",
    "\n",
    "        time.sleep(intervalo)\n",
    "\n",
    "if __name__ == \"__main__\":\n",
    "    url = \"http://example.com\"  # Substitua pela URL do site que você deseja monitorar\n",
    "    intervalo = 10  # Intervalo entre cada verificação em segundos\n",
    "    num_iteracoes = 5  # Número de vezes que o site será verificado\n",
    "\n",
    "    monitor_site(url, intervalo, num_iteracoes)\n"
   ]
  }
 ],
 "metadata": {
  "kernelspec": {
   "display_name": "Python 3 (ipykernel)",
   "language": "python",
   "name": "python3"
  },
  "language_info": {
   "codemirror_mode": {
    "name": "ipython",
    "version": 3
   },
   "file_extension": ".py",
   "mimetype": "text/x-python",
   "name": "python",
   "nbconvert_exporter": "python",
   "pygments_lexer": "ipython3",
   "version": "3.11.7"
  }
 },
 "nbformat": 4,
 "nbformat_minor": 5
}
